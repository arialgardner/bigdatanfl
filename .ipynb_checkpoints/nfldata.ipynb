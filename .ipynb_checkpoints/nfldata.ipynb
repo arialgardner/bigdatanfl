{
 "cells": [
  {
   "cell_type": "code",
   "execution_count": 23,
   "metadata": {},
   "outputs": [],
   "source": [
    "import pandas as pd\n",
    "import numpy as np\n",
    "from numpy.random import randn"
   ]
  },
  {
   "cell_type": "code",
   "execution_count": 51,
   "metadata": {},
   "outputs": [
    {
     "data": {
      "text/plain": [
       "(1713, 10)"
      ]
     },
     "execution_count": 51,
     "metadata": {},
     "output_type": "execute_result"
    }
   ],
   "source": [
    "a = pd.read_csv(\"tracking_gameId_2017090700.csv\")\n",
    "a\n",
    "b = pd.read_csv(\"players.csv\")\n",
    "c = pd.read_csv(\"games.csv\")\n",
    "b\n",
    "#size = len(b.index)\n",
    "b#['foo']=randn(size)\n",
    "c.head()\n",
    "c[\"gameId\"]\n",
    "a[\"gameId\"]\n",
    "\n",
    "#get the home team for gameId when same df.loc[df.set_of_numbers <= 4, 'equal_or_lower_than_4?'] = 'True'\n",
    "d = pd.merge(a, c, on='gameId')\n",
    "#[a['team'] == 'away', a['teamName']=c['visitorTeamAbbr']\n",
    "a.loc[a['team'] == 'away' , 'teamName'] = c['visitorTeamAbbr']\n",
    "a.loc[a['team'] == 'home', 'teamName'] = c['homeTeamAbbr']\n",
    "\n",
    "def samePlayer(name1, name2):\n",
    "    return name1==name2"
   ]
  },
  {
   "cell_type": "code",
   "execution_count": null,
   "metadata": {},
   "outputs": [],
   "source": []
  }
 ],
 "metadata": {
  "kernelspec": {
   "display_name": "Python 3",
   "language": "python",
   "name": "python3"
  },
  "language_info": {
   "codemirror_mode": {
    "name": "ipython",
    "version": 3
   },
   "file_extension": ".py",
   "mimetype": "text/x-python",
   "name": "python",
   "nbconvert_exporter": "python",
   "pygments_lexer": "ipython3",
   "version": "3.6.6"
  }
 },
 "nbformat": 4,
 "nbformat_minor": 2
}
